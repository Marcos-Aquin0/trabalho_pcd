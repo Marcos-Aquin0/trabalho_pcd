{
  "nbformat": 4,
  "nbformat_minor": 0,
  "metadata": {
    "colab": {
      "provenance": []
    },
    "kernelspec": {
      "name": "python3",
      "display_name": "Python 3"
    },
    "language_info": {
      "name": "python"
    }
  },
  "cells": [
    {
      "cell_type": "markdown",
      "source": [
        "carregar os dados no ambiente de execução"
      ],
      "metadata": {
        "id": "YkH31KTpva7i"
      }
    },
    {
      "cell_type": "code",
      "execution_count": null,
      "metadata": {
        "id": "nRAWEdjEuETi"
      },
      "outputs": [],
      "source": [
        "import pandas as pd\n",
        "\n",
        "# Specify dtype for column 2 to handle mixed types\n",
        "df = pd.read_csv('/content/city_temperature.csv', dtype={'column 2': float})\n",
        "df = df['AvgTemperature'].replace(-99, pd.NA).dropna()\n",
        "df.to_csv('dados.csv', index=False, header=False)"
      ]
    },
    {
      "cell_type": "markdown",
      "source": [
        "definir centróides por sorteio com semente fixa\n"
      ],
      "metadata": {
        "id": "qwYBl04Bvjaj"
      }
    },
    {
      "cell_type": "code",
      "source": [
        "%%writefile inicializar_centroides.c\n",
        "\n",
        "#include <stdio.h>\n",
        "#include <stdlib.h>\n",
        "#include <string.h>\n",
        "#include <time.h>\n",
        "\n",
        "static int count_rows(const char *path) {\n",
        "    FILE *f = fopen(path, \"r\");\n",
        "    if (!f) {\n",
        "        fprintf(stderr, \"ERRO: Nao foi possivel abrir o arquivo %s\\n\", path);\n",
        "        exit(1);\n",
        "    }\n",
        "    int rows = 0;\n",
        "    char line[1024];\n",
        "    while (fgets(line, sizeof(line), f)) {\n",
        "        rows++;\n",
        "    }\n",
        "    fclose(f);\n",
        "    return rows;\n",
        "}\n",
        "\n",
        "// Lê os dados de um CSV de uma coluna para um array de doubles.\n",
        "static double *read_csv_1col(const char *path, int *n_out) {\n",
        "    int N = count_rows(path);\n",
        "    if (N <= 0) {\n",
        "        fprintf(stderr, \"ERRO: Arquivo %s esta vazio ou nao pode ser lido.\\n\", path);\n",
        "        exit(1);\n",
        "    }\n",
        "\n",
        "    double *data = (double *)malloc(N * sizeof(double));\n",
        "    if (!data) {\n",
        "        fprintf(stderr, \"ERRO: Falha ao alocar memoria para os dados.\\n\");\n",
        "        exit(1);\n",
        "    }\n",
        "\n",
        "    FILE *f = fopen(path, \"r\");\n",
        "    if (!f) {\n",
        "        fprintf(stderr, \"ERRO: Nao foi possivel abrir o arquivo %s\\n\", path);\n",
        "        free(data);\n",
        "        exit(1);\n",
        "    }\n",
        "\n",
        "    int i = 0;\n",
        "    while (i < N && fscanf(f, \"%lf\", &data[i]) == 1) {\n",
        "        i++;\n",
        "    }\n",
        "    fclose(f);\n",
        "\n",
        "    *n_out = i; // Retorna o número de pontos efetivamente lidos\n",
        "    return data;\n",
        "}\n",
        "\n",
        "// --- FUNÇÃO PARA ESCOLHER CENTRÓIDES INICIAIS ---\n",
        "void escolher_centroides_iniciais(const double *dados, int N, int K, double *centroides, unsigned int semente) {\n",
        "    srand(semente); //semente fixa\n",
        "\n",
        "    //array para marcar os índices já escolhidos para evitar repetição.\n",
        "    int *indices_escolhidos = (int *)calloc(N, sizeof(int));\n",
        "    if (!indices_escolhidos) {\n",
        "        fprintf(stderr, \"ERRO: Falha ao alocar memoria para indices.\\n\");\n",
        "        exit(1);\n",
        "    }\n",
        "\n",
        "    printf(\"Escolhendo %d centroides iniciais a partir de %d pontos...\\n\", K, N);\n",
        "\n",
        "    for (int i = 0; i < K; i++) {\n",
        "        int indice_aleatorio;\n",
        "        do {\n",
        "            indice_aleatorio = rand() % N; // Gera um índice entre 0 e N-1\n",
        "        } while (indices_escolhidos[indice_aleatorio] == 1); // Repete se já foi escolhido\n",
        "\n",
        "        //marca o índice como escolhido e copia o ponto de dado para o array de centróides.\n",
        "        indices_escolhidos[indice_aleatorio] = 1;\n",
        "        centroides[i] = dados[indice_aleatorio];\n",
        "    }\n",
        "\n",
        "    free(indices_escolhidos);\n",
        "}\n",
        "\n",
        "int main(int argc, char **argv) {\n",
        "    if (argc < 2) {\n",
        "        printf(\"Uso: %s <dados.csv>\\n\", argv[0]);\n",
        "        return 1;\n",
        "    }\n",
        "\n",
        "    const char *arquivo_dados = argv[1];\n",
        "    const int K = 16; // qtd centroides\n",
        "    const unsigned int SEMENTE_FIXA = 42;\n",
        "\n",
        "    // Carrega os dados do arquivo CSV carregado\n",
        "    int N = 0;\n",
        "    double *dados = read_csv_1col(arquivo_dados, &N);\n",
        "    printf(\"Carregados %d pontos do arquivo %s\\n\", N, arquivo_dados);\n",
        "\n",
        "    if (K > N) {\n",
        "        fprintf(stderr, \"ERRO: O numero de centroides (K=%d) nao pode ser maior que o numero de pontos (N=%d).\\n\", K, N);\n",
        "        free(dados);\n",
        "        return 1;\n",
        "    }\n",
        "\n",
        "    // Aloca memória para os centróides\n",
        "    double *centroides = (double *)malloc(K * sizeof(double));\n",
        "    if (!centroides) {\n",
        "        fprintf(stderr, \"ERRO: Falha ao alocar memoria para os centroides.\\n\");\n",
        "        free(dados);\n",
        "        return 1;\n",
        "    }\n",
        "\n",
        "    // Escolhe os centróides iniciais\n",
        "    escolher_centroides_iniciais(dados, N, K, centroides, SEMENTE_FIXA);\n",
        "\n",
        "    // Imprime os centróides escolhidos para verificação\n",
        "    printf(\"\\nCentroides iniciais escolhidos (com semente %u):\\n\", SEMENTE_FIXA);\n",
        "    for (int i = 0; i < K; i++) {\n",
        "        printf(\"%f\\n\",centroides[i]);\n",
        "    }\n",
        "\n",
        "    // Libera a memória alocada\n",
        "    free(dados);\n",
        "    free(centroides);\n",
        "\n",
        "    return 0;\n",
        "}"
      ],
      "metadata": {
        "id": "IC5dILQrvmO5"
      },
      "execution_count": null,
      "outputs": []
    },
    {
      "cell_type": "markdown",
      "source": [
        "executar o código"
      ],
      "metadata": {
        "id": "C9-FxMSkvpcg"
      }
    },
    {
      "cell_type": "code",
      "source": [
        "%%shell\n",
        "\n",
        "gcc inicializar_centroides.c -o inicializar_centroides -lm\n",
        "./inicializar_centroides dados.csv"
      ],
      "metadata": {
        "id": "b1ky1qNEvrmX"
      },
      "execution_count": null,
      "outputs": []
    },
    {
      "cell_type": "markdown",
      "source": [
        "escrever em um arquivo csv"
      ],
      "metadata": {
        "id": "TouSSybfvxJ6"
      }
    },
    {
      "cell_type": "code",
      "source": [
        "%%writefile centroides_iniciais.csv\n",
        "50.500000\n",
        "88.300000\n",
        "41.500000\n",
        "36.400000\n",
        "15.800000\n",
        "79.200000\n",
        "86.100000\n",
        "77.200000\n",
        "85.200000\n",
        "84.200000\n",
        "71.200000\n",
        "77.300000\n",
        "83.300000\n",
        "61.100000\n",
        "53.200000\n",
        "36.600000"
      ],
      "metadata": {
        "id": "7stn9L6cvy4H"
      },
      "execution_count": null,
      "outputs": []
    },
    {
      "cell_type": "markdown",
      "source": [
        "# Versão Sequencial"
      ],
      "metadata": {
        "id": "32O1wBXWwFVV"
      }
    },
    {
      "cell_type": "markdown",
      "source": [
        "kmeans_1d_naive.c\n",
        "   K-means 1D (C99), implementação \"naive\":\n",
        "   - Lê X (N linhas, 1 coluna) e C_init (K linhas, 1 coluna) de CSVs sem cabeçalho.\n",
        "   - Itera assignment + update até max_iter ou variação relativa do SSE < eps.\n",
        "   - Salva (opcional) assign (N linhas) e centróides finais (K linhas)."
      ],
      "metadata": {
        "id": "TaqF-EOowSfe"
      }
    },
    {
      "cell_type": "code",
      "source": [
        "%%writefile kmeans_1d_naive.c\n",
        "\n",
        "#include <stdio.h>\n",
        "#include <stdlib.h>\n",
        "#include <string.h>\n",
        "#include <math.h>\n",
        "#include <time.h>\n",
        "\n",
        "/* ---------- util CSV 1D: cada linha tem 1 número ---------- */\n",
        "static int count_rows(const char *path){\n",
        "    FILE *f = fopen(path, \"r\");\n",
        "    if(!f){ fprintf(stderr,\"Erro ao abrir %s\\n\", path); exit(1); }\n",
        "    int rows=0; char line[8192];\n",
        "    while(fgets(line,sizeof(line),f)){\n",
        "        int only_ws=1;\n",
        "        for(char *p=line; *p; p++){\n",
        "            if(*p!=' ' && *p!='\\t' && *p!='\\n' && *p!='\\r'){ only_ws=0; break; }\n",
        "        }\n",
        "        if(!only_ws) rows++;\n",
        "    }\n",
        "    fclose(f);\n",
        "    return rows;\n",
        "}\n",
        "\n",
        "static double *read_csv_1col(const char *path, int *n_out){\n",
        "    int R = count_rows(path);\n",
        "    if(R<=0){ fprintf(stderr,\"Arquivo vazio: %s\\n\", path); exit(1); }\n",
        "    double *A = (double*)malloc((size_t)R * sizeof(double));\n",
        "    if(!A){ fprintf(stderr,\"Sem memoria para %d linhas\\n\", R); exit(1); }\n",
        "\n",
        "    FILE *f = fopen(path, \"r\");\n",
        "    if(!f){ fprintf(stderr,\"Erro ao abrir %s\\n\", path); free(A); exit(1); }\n",
        "\n",
        "    char line[8192];\n",
        "    int r=0;\n",
        "    while(fgets(line,sizeof(line),f)){\n",
        "        int only_ws=1;\n",
        "        for(char *p=line; *p; p++){\n",
        "            if(*p!=' ' && *p!='\\t' && *p!='\\n' && *p!='\\r'){ only_ws=0; break; }\n",
        "        }\n",
        "        if(only_ws) continue;\n",
        "\n",
        "        /* aceita vírgula/ponto-e-vírgula/espaco/tab, pega o primeiro token numérico */\n",
        "        const char *delim = \",; \\t\";\n",
        "        char *tok = strtok(line, delim);\n",
        "        if(!tok){ fprintf(stderr,\"Linha %d sem valor em %s\\n\", r+1, path); free(A); fclose(f); exit(1); }\n",
        "        A[r] = atof(tok);\n",
        "        r++;\n",
        "        if(r>R) break;\n",
        "    }\n",
        "    fclose(f);\n",
        "    *n_out = R;\n",
        "    return A;\n",
        "}\n",
        "\n",
        "static void write_assign_csv(const char *path, const int *assign, int N){\n",
        "    if(!path) return;\n",
        "    FILE *f = fopen(path, \"w\");\n",
        "    if(!f){ fprintf(stderr,\"Erro ao abrir %s para escrita\\n\", path); return; }\n",
        "    for(int i=0;i<N;i++) fprintf(f, \"%d\\n\", assign[i]);\n",
        "    fclose(f);\n",
        "}\n",
        "\n",
        "static void write_centroids_csv(const char *path, const double *C, int K){\n",
        "    if(!path) return;\n",
        "    FILE *f = fopen(path, \"w\");\n",
        "    if(!f){ fprintf(stderr,\"Erro ao abrir %s para escrita\\n\", path); return; }\n",
        "    for(int c=0;c<K;c++) fprintf(f, \"%.6f\\n\", C[c]);\n",
        "    fclose(f);\n",
        "}\n",
        "\n",
        "/* ---------- k-means 1D ---------- */\n",
        "/* assignment: para cada X[i], encontra c com menor (X[i]-C[c])^2 */\n",
        "static double assignment_step_1d(const double *X, const double *C, int *assign, int N, int K){\n",
        "    double sse = 0.0;\n",
        "    for(int i=0;i<N;i++){\n",
        "        int best = -1;\n",
        "        double bestd = 1e300;\n",
        "        for(int c=0;c<K;c++){\n",
        "            double diff = X[i] - C[c];\n",
        "            double d = diff*diff;\n",
        "            if(d < bestd){ bestd = d; best = c; }\n",
        "        }\n",
        "        assign[i] = best;\n",
        "        sse += bestd;\n",
        "    }\n",
        "    return sse;\n",
        "}\n",
        "\n",
        "/* update: média dos pontos de cada cluster (1D)\n",
        "   se cluster vazio, copia X[0] (estratégia naive) */\n",
        "static void update_step_1d(const double *X, double *C, const int *assign, int N, int K){\n",
        "    double *sum = (double*)calloc((size_t)K, sizeof(double));\n",
        "    int *cnt = (int*)calloc((size_t)K, sizeof(int));\n",
        "    if(!sum || !cnt){ fprintf(stderr,\"Sem memoria no update\\n\"); exit(1); }\n",
        "\n",
        "    for(int i=0;i<N;i++){\n",
        "        int a = assign[i];\n",
        "        cnt[a] += 1;\n",
        "        sum[a] += X[i];\n",
        "    }\n",
        "    for(int c=0;c<K;c++){\n",
        "        if(cnt[c] > 0) C[c] = sum[c] / (double)cnt[c];\n",
        "        else           C[c] = X[0]; /* simples: cluster vazio recebe o primeiro ponto */\n",
        "    }\n",
        "    free(sum); free(cnt);\n",
        "}\n",
        "\n",
        "static void kmeans_1d(const double *X, double *C, int *assign,\n",
        "                      int N, int K, int max_iter, double eps,\n",
        "                      int *iters_out, double *sse_out)\n",
        "{\n",
        "    FILE *sse_file = fopen(\"sse_evolution_seq.csv\", \"w\");\n",
        "    double prev_sse = 1e300;\n",
        "    double sse = 0.0;\n",
        "    int it;\n",
        "    for(it=0; it<max_iter; it++){\n",
        "        sse = assignment_step_1d(X, C, assign, N, K);\n",
        "        fprintf(sse_file, \"%d,%.6f\\n\", it, sse);\n",
        "        /* parada por variação relativa do SSE */\n",
        "        double rel = fabs(sse - prev_sse) / (prev_sse > 0.0 ? prev_sse : 1.0);\n",
        "        printf(\"Iteration %d, SSE: %f\\n\", it + 1, sse); // Added this line back\n",
        "        if(rel < eps){ it++; break; }\n",
        "        update_step_1d(X, C, assign, N, K);\n",
        "        prev_sse = sse;\n",
        "\n",
        "    }\n",
        "    *iters_out = it;\n",
        "    *sse_out = sse;\n",
        "    fclose(sse_file);\n",
        "}\n",
        "\n",
        "/* ---------- main ---------- */\n",
        "int main(int argc, char **argv){\n",
        "    if(argc < 3){\n",
        "        printf(\"Uso: %s dados.csv centroides_iniciais.csv [max_iter=50] [eps=1e-4] [assign.csv] [centroids.csv]\\n\", argv[0]);\n",
        "        printf(\"Obs: arquivos CSV com 1 coluna (1 valor por linha), sem cabeçalho.\\n\");\n",
        "        return 1;\n",
        "    }\n",
        "    const char *pathX = argv[1];\n",
        "    const char *pathC = argv[2];\n",
        "    int max_iter = (argc>3)? atoi(argv[3]) : 50;\n",
        "    double eps   = (argc>4)? atof(argv[4]) : 1e-4;\n",
        "    const char *outAssign   = (argc>5)? argv[5] : NULL;\n",
        "    const char *outCentroid = (argc>6)? argv[6] : NULL;\n",
        "\n",
        "    if(max_iter <= 0 || eps <= 0.0){\n",
        "        fprintf(stderr,\"Parâmetros inválidos: max_iter>0 e eps>0\\n\");\n",
        "        return 1;\n",
        "    }\n",
        "\n",
        "    int N=0, K=0;\n",
        "    double *X = read_csv_1col(pathX, &N);\n",
        "    double *C = read_csv_1col(pathC, &K);\n",
        "    int *assign = (int*)malloc((size_t)N * sizeof(int));\n",
        "    if(!assign){ fprintf(stderr,\"Sem memoria para assign\\n\"); free(X); free(C); return 1; }\n",
        "\n",
        "    clock_t t0 = clock();\n",
        "    int iters = 0; double sse = 0.0;\n",
        "    kmeans_1d(X, C, assign, N, K, max_iter, eps, &iters, &sse);\n",
        "    clock_t t1 = clock();\n",
        "    double ms = 1000.0 * (double)(t1 - t0) / (double)CLOCKS_PER_SEC;\n",
        "\n",
        "    printf(\"K-means 1D (naive)\\n\");\n",
        "    printf(\"N=%d K=%d max_iter=%d eps=%g\\n\", N, K, max_iter, eps);\n",
        "    printf(\"Iterações: %d | SSE final: %.6f | Tempo: %.1f ms\\n\", iters, sse, ms);\n",
        "\n",
        "    write_assign_csv(outAssign, assign, N);\n",
        "    write_centroids_csv(outCentroid, C, K);\n",
        "\n",
        "    free(assign); free(X); free(C);\n",
        "    return 0;\n",
        "}\n"
      ],
      "metadata": {
        "id": "QwYujOTmwVwD"
      },
      "execution_count": null,
      "outputs": []
    },
    {
      "cell_type": "markdown",
      "source": [
        "executar o código.\n",
        "- Para compilar: gcc -O2 -std=c99 kmeans_1d_naive.c -o kmeans_1d_naive -lm\n",
        "- Uso:      ./kmeans_1d_naive dados.csv centroides_iniciais.csv [max_iter=50] [eps=1e-4] [assign.csv] [centroids.csv]"
      ],
      "metadata": {
        "id": "lPDg0tYIwhbl"
      }
    },
    {
      "cell_type": "code",
      "source": [
        "%%shell\n",
        "\n",
        "gcc -O2 -std=c99 kmeans_1d_naive.c -o kmeans_1d_naive -lm\n",
        "./kmeans_1d_naive dados.csv centroides_iniciais.csv 500 0.0001 assign.csv centroids.csv\n",
        "cat centroids.csv\n",
        "\n"
      ],
      "metadata": {
        "id": "eIXrtmvkwZQD"
      },
      "execution_count": null,
      "outputs": []
    },
    {
      "cell_type": "markdown",
      "source": [
        "Gerar gráfico de convergência do SSE"
      ],
      "metadata": {
        "id": "RDE3ORw4wdtN"
      }
    },
    {
      "cell_type": "code",
      "source": [
        "import pandas as pd\n",
        "import matplotlib.pyplot as plt\n",
        "\n",
        "sse_df = pd.read_csv('sse_evolution_seq.csv', header=None, names=['Iteration', 'SSE'])\n",
        "\n",
        "plt.figure(figsize=(10, 6))\n",
        "plt.plot(sse_df['Iteration'], sse_df['SSE'])\n",
        "plt.xlabel('Iteração')\n",
        "plt.ylabel('SSE (Sum of Squared Errors)')\n",
        "plt.title('Convergência versão sequencial')\n",
        "plt.grid(True)\n",
        "plt.show()"
      ],
      "metadata": {
        "id": "gNQzzRfowcid"
      },
      "execution_count": null,
      "outputs": []
    }
  ]
}